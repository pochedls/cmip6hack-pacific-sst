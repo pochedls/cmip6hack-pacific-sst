{
 "cells": [
  {
   "cell_type": "markdown",
   "metadata": {},
   "source": [
    "# Low-frequency component analysis of SST\n",
    "\n",
    "Reading in SST data and performing low-frequency component analysis"
   ]
  },
  {
   "cell_type": "code",
   "execution_count": 1,
   "metadata": {},
   "outputs": [],
   "source": [
    "%matplotlib inline\n",
    "\n",
    "import xarray as xr\n",
    "import numpy as np\n",
    "import matplotlib.pyplot as plt\n",
    "import intake\n",
    "#import cftime\n",
    "\n",
    "# util.py is in the local directory\n",
    "# it contains code that is common across project notebooks\n",
    "# or routines that are too extensive and might otherwise clutter\n",
    "# the notebook design\n",
    "import util "
   ]
  },
  {
   "cell_type": "markdown",
   "metadata": {},
   "source": [
    "## Using `intake-esm` to get SST data\n",
    "[Intake-esm](https://intake-esm.readthedocs.io) is a data cataloging utility that facilitates access to CMIP data. It's pretty awesome.\n",
    "\n",
    "An `intake-esm` collection object establishes a link to a database that contains file locations and associated metadata (i.e. which experiement, model, etc. thet come from). \n",
    "\n",
    "### Opening a collection\n",
    "First step is to open a collection by pointing to the collection definition file, which is a JSON file that conforms to the [ESM Collection Specification](https://github.com/NCAR/esm-collection-spec). \n",
    "\n",
    "The collection JSON files are stored locally in this repository for purposes of reproducibility---and because Cheyenne compute nodes don't have Internet access. \n",
    "\n",
    "The primary source for these files is the [intake-esm-datastore](https://github.com/NCAR/intake-esm-datastore) repository. Any changes made to these files should be pulled from that repo. For instance, the Pangeo cloud collection is available [here](https://raw.githubusercontent.com/NCAR/intake-esm-datastore/master/catalogs/pangeo-cmip6.json)."
   ]
  },
  {
   "cell_type": "code",
   "execution_count": 2,
   "metadata": {},
   "outputs": [],
   "source": [
    "if util.is_ncar_host():\n",
    "    col = intake.open_esm_datastore(\"../catalogs/glade-cmip6.json\")\n",
    "else:\n",
    "    col = intake.open_esm_datastore(\"../catalogs/pangeo-cmip6.json\")\n",
    "#col"
   ]
  },
  {
   "cell_type": "markdown",
   "metadata": {},
   "source": [
    "`intake-esm` is build on top of [pandas](https://pandas.pydata.org/pandas-docs/stable). It is possible to view the `pandas.DataFrame` as follows."
   ]
  },
  {
   "cell_type": "code",
   "execution_count": 3,
   "metadata": {},
   "outputs": [],
   "source": [
    "#col.df.head()"
   ]
  },
  {
   "cell_type": "markdown",
   "metadata": {},
   "source": [
    "It is possible to interact with the `DataFrame`; for instance, we can see what the \"attributes\" of the datasets are by printing the columns."
   ]
  },
  {
   "cell_type": "code",
   "execution_count": 4,
   "metadata": {},
   "outputs": [],
   "source": [
    "#col.df.columns"
   ]
  },
  {
   "cell_type": "markdown",
   "metadata": {},
   "source": [
    "### Search and discovery\n",
    "\n",
    "#### Finding unique entries\n",
    "Let's query the data to see what models (\"source_id\"), experiments (\"experiment_id\") and temporal frequencies (\"table_id\") are available."
   ]
  },
  {
   "cell_type": "code",
   "execution_count": 5,
   "metadata": {},
   "outputs": [],
   "source": [
    "import pprint \n",
    "uni_dict = col.unique(['source_id', 'experiment_id', 'table_id'])\n",
    "#pprint.pprint(uni_dict, compact=True)"
   ]
  },
  {
   "cell_type": "markdown",
   "metadata": {},
   "source": [
    "#### Searching for specific datasets\n",
    "\n",
    "Let's find all the dissolved oxygen data at annual frequency from the ocean for the `historical` and `ssp585` experiments."
   ]
  },
  {
   "cell_type": "code",
   "execution_count": 6,
   "metadata": {},
   "outputs": [],
   "source": [
    "cat = col.search(experiment_id=['historical', 'ssp585'], table_id='Amon', variable_id='ts', grid_label='gn')\n",
    "#cat.df"
   ]
  },
  {
   "cell_type": "markdown",
   "metadata": {},
   "source": [
    "It might be desirable to get more specific. For instance, we may want to select only the models that have *both* `historical` and `ssp585` data. We coud do this as follows."
   ]
  },
  {
   "cell_type": "code",
   "execution_count": 7,
   "metadata": {},
   "outputs": [
    {
     "data": {
      "text/plain": [
       "['FGOALS-g3',\n",
       " 'CAMS-CSM1-0',\n",
       " 'MIROC-ES2L',\n",
       " 'CanESM5',\n",
       " 'MRI-ESM2-0',\n",
       " 'UKESM1-0-LL',\n",
       " 'NESM3',\n",
       " 'BCC-CSM2-MR',\n",
       " 'MIROC6']"
      ]
     },
     "execution_count": 7,
     "metadata": {},
     "output_type": "execute_result"
    }
   ],
   "source": [
    "models = set(uni_dict['source_id']['values']) # all the models\n",
    "\n",
    "for experiment_id in ['historical', 'ssp585']:\n",
    "    query = dict(experiment_id=experiment_id, table_id='Amon', \n",
    "                 variable_id='ts', grid_label='gn')  \n",
    "    cat = col.search(**query)\n",
    "    models = models.intersection({model for model in cat.df.source_id.unique().tolist()})\n",
    "\n",
    "models = list(models)\n",
    "models"
   ]
  },
  {
   "cell_type": "code",
   "execution_count": 8,
   "metadata": {},
   "outputs": [],
   "source": [
    "cat = col.search(experiment_id=['historical', 'ssp585'], table_id='Amon', \n",
    "                 variable_id='ts', grid_label='gn', source_id=models)\n",
    "#cat.df"
   ]
  },
  {
   "cell_type": "markdown",
   "metadata": {},
   "source": [
    "### Loading data\n",
    "\n",
    "`intake-esm` enables loading data directly into an [xarray.Dataset](http://xarray.pydata.org/en/stable/api.html#dataset).\n",
    "\n",
    "Note that data on the cloud are in \n",
    "[zarr](https://zarr.readthedocs.io/en/stable/) format and data on \n",
    "[glade](https://www2.cisl.ucar.edu/resources/storage-and-file-systems/glade-file-spaces) are stored as \n",
    "[netCDF](https://www.unidata.ucar.edu/software/netcdf/) files. This is opaque to the user.\n",
    "\n",
    "`intake-esm` has rules for aggegating datasets; these rules are defined in the collection-specification file."
   ]
  },
  {
   "cell_type": "code",
   "execution_count": 9,
   "metadata": {},
   "outputs": [
    {
     "name": "stdout",
     "output_type": "stream",
     "text": [
      "\n",
      "xarray will load netCDF datasets with dask using a single chunk for all arrays.\n",
      "For effective chunking, please provide chunks in cdf_kwargs.\n",
      "For example: cdf_kwargs={'chunks': {'time': 36}}\n",
      "\n",
      "--> The keys in the returned dictionary of datasets are constructed as follows:\n",
      "\t'activity_id.institution_id.source_id.experiment_id.table_id.grid_label'\n",
      "\n",
      "--> There will be 18 group(s)\n"
     ]
    }
   ],
   "source": [
    "dset_dict = cat.to_dataset_dict(zarr_kwargs={'consolidated': True, 'decode_times': True}, \n",
    "                                cdf_kwargs={'chunks': {}, 'decode_times': True})"
   ]
  },
  {
   "cell_type": "markdown",
   "metadata": {},
   "source": [
    "`dset_dict` is a dictionary of `xarray.Dataset`'s; its keys are constructed to refer to compatible groups."
   ]
  },
  {
   "cell_type": "code",
   "execution_count": 10,
   "metadata": {},
   "outputs": [
    {
     "data": {
      "text/plain": [
       "dict_keys(['CMIP.BCC.BCC-CSM2-MR.historical.Amon.gn', 'CMIP.CAMS.CAMS-CSM1-0.historical.Amon.gn', 'CMIP.CAS.FGOALS-g3.historical.Amon.gn', 'CMIP.CAS.FGOALS-g3.ssp585.Amon.gn', 'CMIP.CCCma.CanESM5.historical.Amon.gn', 'CMIP.MIROC.MIROC-ES2L.historical.Amon.gn', 'CMIP.MIROC.MIROC6.historical.Amon.gn', 'CMIP.MOHC.UKESM1-0-LL.historical.Amon.gn', 'CMIP.MRI.MRI-ESM2-0.historical.Amon.gn', 'CMIP.NUIST.NESM3.historical.Amon.gn', 'ScenarioMIP.BCC.BCC-CSM2-MR.ssp585.Amon.gn', 'ScenarioMIP.CAMS.CAMS-CSM1-0.ssp585.Amon.gn', 'ScenarioMIP.CCCma.CanESM5.ssp585.Amon.gn', 'ScenarioMIP.MIROC.MIROC-ES2L.ssp585.Amon.gn', 'ScenarioMIP.MIROC.MIROC6.ssp585.Amon.gn', 'ScenarioMIP.MOHC.UKESM1-0-LL.ssp585.Amon.gn', 'ScenarioMIP.MRI.MRI-ESM2-0.ssp585.Amon.gn', 'ScenarioMIP.NUIST.NESM3.ssp585.Amon.gn'])"
      ]
     },
     "execution_count": 10,
     "metadata": {},
     "output_type": "execute_result"
    }
   ],
   "source": [
    "dset_dict.keys()"
   ]
  },
  {
   "cell_type": "markdown",
   "metadata": {},
   "source": [
    "We can access a particular dataset as follows."
   ]
  },
  {
   "cell_type": "code",
   "execution_count": 11,
   "metadata": {},
   "outputs": [],
   "source": [
    "# choose model here\n",
    "ds_hist = dset_dict['CMIP.CCCma.CanESM5.historical.Amon.gn']\n",
    "ds_ssp585 = dset_dict['ScenarioMIP.CCCma.CanESM5.ssp585.Amon.gn']"
   ]
  },
  {
   "cell_type": "markdown",
   "metadata": {},
   "source": [
    "### Get land fraction\n",
    "\n",
    "As motivation for diving into more advanced manipulations with `intake-esm`, let's consider the task of getting access to grid information in the `Ofx` table_id."
   ]
  },
  {
   "cell_type": "code",
   "execution_count": 12,
   "metadata": {},
   "outputs": [],
   "source": [
    "cat_fx = col.search(experiment_id=['historical'], source_id=models, variable_id='sftlf', table_id='fx', grid_label='gn')\n",
    "#cat_fx.df"
   ]
  },
  {
   "cell_type": "code",
   "execution_count": 13,
   "metadata": {},
   "outputs": [],
   "source": [
    "df = cat_fx.df.copy()\n",
    "df.drop_duplicates(subset=['source_id', 'variable_id'], inplace=True)\n",
    "#df"
   ]
  },
  {
   "cell_type": "markdown",
   "metadata": {},
   "source": [
    "Now, since we've only retained one ensemble member, we need to eliminate that column. If we omit this step, `intake-esm` will throw an error, complaining that different variables are present for each ensemble member. Setting the `member_id` column to NaN precludes attempts to join along the ensemble dimension.\n",
    "\n",
    "After this final manipulation, we copy the `DataFrame` back to the collection object and proceed with loading the data."
   ]
  },
  {
   "cell_type": "code",
   "execution_count": 14,
   "metadata": {},
   "outputs": [],
   "source": [
    "df['member_id'] = np.nan\n",
    "cat_fx.df = df"
   ]
  },
  {
   "cell_type": "code",
   "execution_count": 15,
   "metadata": {},
   "outputs": [
    {
     "name": "stdout",
     "output_type": "stream",
     "text": [
      "\n",
      "xarray will load netCDF datasets with dask using a single chunk for all arrays.\n",
      "For effective chunking, please provide chunks in cdf_kwargs.\n",
      "For example: cdf_kwargs={'chunks': {'time': 36}}\n",
      "\n",
      "--> The keys in the returned dictionary of datasets are constructed as follows:\n",
      "\t'activity_id.institution_id.source_id.experiment_id.table_id.grid_label'\n",
      "\n",
      "--> There will be 2 group(s)\n"
     ]
    }
   ],
   "source": [
    "fx_dsets = cat_fx.to_dataset_dict(zarr_kwargs={'consolidated': True}, cdf_kwargs={'chunks': {}})"
   ]
  },
  {
   "cell_type": "code",
   "execution_count": 16,
   "metadata": {},
   "outputs": [
    {
     "data": {
      "text/plain": [
       "dict_keys(['CMIP.MIROC.MIROC6.historical.fx.gn', 'CMIP.MRI.MRI-ESM2-0.historical.fx.gn'])"
      ]
     },
     "execution_count": 16,
     "metadata": {},
     "output_type": "execute_result"
    }
   ],
   "source": [
    "fx_dsets.keys()"
   ]
  },
  {
   "cell_type": "code",
   "execution_count": 17,
   "metadata": {},
   "outputs": [
    {
     "name": "stdout",
     "output_type": "stream",
     "text": [
      "Data variables:\n",
      "    lat_bnds  (lat, bnds) float64 dask.array<chunksize=(128, 2), meta=np.ndarray>\n",
      "    lon_bnds  (lon, bnds) float64 dask.array<chunksize=(256, 2), meta=np.ndarray>\n",
      "    type      |S4 ...\n",
      "    sftlf     (lat, lon) float32 dask.array<chunksize=(128, 256), meta=np.ndarray>\n",
      "Data variables:\n",
      "    lat_bnds  (lat, bnds) float64 dask.array<chunksize=(160, 2), meta=np.ndarray>\n",
      "    lon_bnds  (lon, bnds) float64 dask.array<chunksize=(320, 2), meta=np.ndarray>\n",
      "    type      |S4 ...\n",
      "    sftlf     (lat, lon) float32 dask.array<chunksize=(160, 320), meta=np.ndarray>\n"
     ]
    }
   ],
   "source": [
    "for key, ds in fx_dsets.items():\n",
    "    print(ds.data_vars)"
   ]
  },
  {
   "cell_type": "code",
   "execution_count": 18,
   "metadata": {},
   "outputs": [],
   "source": [
    "# Low-frequency component analysis on loaded data\n",
    "\n",
    "lat=ds_hist['lat']\n",
    "lon=ds_hist['lon']"
   ]
  },
  {
   "cell_type": "code",
   "execution_count": 19,
   "metadata": {},
   "outputs": [
    {
     "data": {
      "text/plain": [
       "(44,)"
      ]
     },
     "execution_count": 19,
     "metadata": {},
     "output_type": "execute_result"
    }
   ],
   "source": [
    "members = ds_hist['member_id']\n",
    "ne = np.shape(members)\n",
    "ne"
   ]
  },
  {
   "cell_type": "code",
   "execution_count": 20,
   "metadata": {},
   "outputs": [
    {
     "data": {
      "text/plain": [
       "array('r2i1p1f1', dtype='<U9')"
      ]
     },
     "execution_count": 20,
     "metadata": {},
     "output_type": "execute_result"
    }
   ],
   "source": [
    "members[0].values"
   ]
  },
  {
   "cell_type": "code",
   "execution_count": 24,
   "metadata": {},
   "outputs": [
    {
     "data": {
      "text/plain": [
       "<xarray.DataArray 'time' (time: 1992)>\n",
       "array([cftime.DatetimeNoLeap(2015, 1, 16, 12, 0, 0, 0, 0, 16),\n",
       "       cftime.DatetimeNoLeap(2015, 2, 15, 0, 0, 0, 0, 2, 46),\n",
       "       cftime.DatetimeNoLeap(2015, 3, 16, 12, 0, 0, 0, 3, 75), ...,\n",
       "       cftime.DatetimeNoLeap(2180, 10, 16, 12, 0, 0, 0, 4, 289),\n",
       "       cftime.DatetimeNoLeap(2180, 11, 16, 0, 0, 0, 0, 0, 320),\n",
       "       cftime.DatetimeNoLeap(2180, 12, 16, 12, 0, 0, 0, 2, 350)], dtype=object)\n",
       "Coordinates:\n",
       "  * time     (time) object 2015-01-16 12:00:00 ... 2180-12-16 12:00:00\n",
       "Attributes:\n",
       "    bounds:         time_bnds\n",
       "    axis:           T\n",
       "    long_name:      time\n",
       "    standard_name:  time"
      ]
     },
     "execution_count": 24,
     "metadata": {},
     "output_type": "execute_result"
    }
   ],
   "source": [
    "ds_ssp585.time"
   ]
  },
  {
   "cell_type": "code",
   "execution_count": 22,
   "metadata": {},
   "outputs": [
    {
     "name": "stderr",
     "output_type": "stream",
     "text": [
      "/glade/u/home/rwills/miniconda3/lib/python3.7/site-packages/xarray/core/indexing.py:1311: PerformanceWarning: Slicing with an out-of-order index is generating 165 times more chunks\n",
      "  return self.array[key]\n",
      "/glade/u/home/rwills/miniconda3/lib/python3.7/site-packages/xarray/core/indexing.py:1311: PerformanceWarning: Slicing with an out-of-order index is generating 166 times more chunks\n",
      "  return self.array[key]\n",
      "/glade/u/home/rwills/miniconda3/lib/python3.7/site-packages/xarray/core/indexing.py:1311: PerformanceWarning: Slicing with an out-of-order index is generating 83 times more chunks\n",
      "  return self.array[key]\n"
     ]
    }
   ],
   "source": [
    "hist_clim=ds_hist.groupby('time.month').mean('time')\n",
    "ssp585_clim=ds_ssp585.groupby('time.month').mean('time')\n",
    "\n",
    "hist_clim_emean = hist_clim.mean('member_id')\n",
    "ssp585_clim_emean = ssp585_clim.mean('member_id')\n",
    "\n",
    "hist_anom = ds_hist.groupby('time.month') - hist_clim\n",
    "ssp585_anom = ds_ssp585.groupby('time.month') - ssp585_clim\n",
    "\n",
    "hist_anom_emean = hist_anom.mean('member_id')\n",
    "ssp585_anom_emean = ssp585_anom.mean('member_id')"
   ]
  },
  {
   "cell_type": "code",
   "execution_count": 23,
   "metadata": {},
   "outputs": [],
   "source": [
    "field = ssp585_anom_emean.ts.values"
   ]
  },
  {
   "cell_type": "code",
   "execution_count": 29,
   "metadata": {},
   "outputs": [
    {
     "data": {
      "text/plain": [
       "<matplotlib.colorbar.Colorbar at 0x2addef223ac8>"
      ]
     },
     "execution_count": 29,
     "metadata": {},
     "output_type": "execute_result"
    },
    {
     "data": {
      "image/png": "[encoded data removed]",
      "text/plain": [
       "<Figure size 432x288 with 2 Axes>"
      ]
     },
     "metadata": {
      "needs_background": "light"
     },
     "output_type": "display_data"
    }
   ],
   "source": [
    "f=plt.figure()\n",
    "plt.contourf(field[1991,:,:],np.arange(-6,6.2,.2),cmap=plt.cm.RdBu_r)\n",
    "plt.colorbar()"
   ]
  },
  {
   "cell_type": "code",
   "execution_count": 52,
   "metadata": {},
   "outputs": [],
   "source": [
    "ts_hist_emean = ds_hist.ts.mean('member_id')\n",
    "ts_ssp585_emean = ds_ssp585.ts.mean('member_id')"
   ]
  },
  {
   "cell_type": "code",
   "execution_count": null,
   "metadata": {},
   "outputs": [],
   "source": [
    "ds_hist_anom=ds_hist-ds_hist.ts.sel(year=slice(1964,2014)).mean('year')"
   ]
  },
  {
   "cell_type": "code",
   "execution_count": null,
   "metadata": {},
   "outputs": [],
   "source": [
    "plot(lon,lat,ts_hist_emean)"
   ]
  },
  {
   "cell_type": "code",
   "execution_count": null,
   "metadata": {},
   "outputs": [],
   "source": []
  },
  {
   "cell_type": "code",
   "execution_count": 36,
   "metadata": {},
   "outputs": [
    {
     "name": "stderr",
     "output_type": "stream",
     "text": [
      "/glade/u/home/rwills/miniconda3/lib/python3.7/site-packages/xarray/core/dataset.py:2648: FutureWarning: .labels was deprecated in version 0.24.0. Use .codes instead.\n",
      "  v.labels,\n"
     ]
    }
   ],
   "source": [
    "# Preprocessing for Large Ensemble EOFs (with upscaling)\n",
    "\n",
    "cosw = np.sqrt(np.cos(lat*np.pi/180))\n",
    "\n",
    "X=hist_anom*cosw\n",
    "\n",
    "X_flat=X.stack(index=['time','member_id'])\n",
    "X_ensmean=X.mean('member_id')\n",
    "\n",
    "T = X_flat.time\n",
    "\n",
    "#upscaling\n",
    "X_upscale = util.upscale(lat,lon,X_flat,2)\n",
    "\n",
    "X_upscale_flat = X_upscale.stack(shape=['lat','lon'])\n",
    "#sh1=np.shape(ds_upscale)\n",
    "#ds_upscale_flat=np.reshape(ds_upscale,[sh1[0]*sh1[1],sh1[2]])\n",
    "\n",
    "latu = X_upscale.lat.values\n",
    "lonu = X_upscale.lon.values"
   ]
  },
  {
   "cell_type": "code",
   "execution_count": null,
   "metadata": {},
   "outputs": [],
   "source": [
    "%%time\n",
    "\n",
    "# Large Ensemble EOFs (with upscaling)\n",
    "\n",
    "#ds_ensmean_upscale = upscale(lat.values,lon.values,ds_ensmean.values.transpose(1,2,0),2)\n",
    "ds_ensmean_upscale = upscale2(lat,lon,ds_ensmean,2)\n",
    "\n",
    "ds_ensmean_upscale_flat = ds_ensmean_upscale.stack(shape=['lat','lon'])\n",
    "#sh1=np.shape(ds_ensmean_upscale)\n",
    "#ds_ensmean_upscale_flat=np.reshape(ds_ensmean_upscale,[sh1[0]*sh1[1],sh1[2]])\n",
    "\n",
    "u,s,v=np.linalg.svd(ds_upscale_flat.values.T/np.sqrt(len(T)-1))\n",
    "\n",
    "eigvals=np.diag(s*s)\n",
    "\n",
    "cosw = np.sqrt(np.cos(latu*np.pi/180))\n",
    "\n",
    "# Dimension checks\n",
    "#print(ds_upscale.shape)\n",
    "#plt.contourf(ds_upscale.lon,ds_upscale.lat,ds_upscale[0,0,:,:])\n",
    "#ds_upscale.lat_bins"
   ]
  },
  {
   "cell_type": "code",
   "execution_count": 29,
   "metadata": {},
   "outputs": [
    {
     "data": {
      "text/plain": [
       "<xarray.Dataset>\n",
       "Dimensions:    (bnds: 2, lat: 64, lon: 128, member_id: 44, month: 12, time: 1980)\n",
       "Coordinates:\n",
       "  * member_id  (member_id) <U9 'r2i1p1f1' 'r5i1p1f1' ... 'r18i1p1f1' 'r6i1p1f1'\n",
       "  * lon        (lon) float64 0.0 2.812 5.625 8.438 ... 348.8 351.6 354.4 357.2\n",
       "  * lat        (lat) float64 -87.86 -85.1 -82.31 -79.53 ... 82.31 85.1 87.86\n",
       "  * time       (time) object 1850-01-16 12:00:00 ... 2014-12-16 12:00:00\n",
       "  * month      (month) int64 1 2 3 4 5 6 7 8 9 10 11 12\n",
       "Dimensions without coordinates: bnds\n",
       "Data variables:\n",
       "    lon_bnds   (lon, bnds, month) float64 dask.array<chunksize=(128, 2, 1), meta=np.ndarray>\n",
       "    lat_bnds   (lat, bnds, month) float64 dask.array<chunksize=(64, 2, 1), meta=np.ndarray>\n",
       "    ts         (member_id, time, lat, lon, month) float32 dask.array<chunksize=(1, 1980, 64, 128, 1), meta=np.ndarray>"
      ]
     },
     "execution_count": 29,
     "metadata": {},
     "output_type": "execute_result"
    }
   ],
   "source": [
    "hist_anom"
   ]
  },
  {
   "cell_type": "code",
   "execution_count": null,
   "metadata": {},
   "outputs": [],
   "source": []
  }
 ],
 "metadata": {
  "kernelspec": {
   "display_name": "Python 3",
   "language": "python",
   "name": "python3"
  },
  "language_info": {
   "codemirror_mode": {
    "name": "ipython",
    "version": 3
   },
   "file_extension": ".py",
   "mimetype": "text/x-python",
   "name": "python",
   "nbconvert_exporter": "python",
   "pygments_lexer": "ipython3",
   "version": "3.7.3"
  }
 },
 "nbformat": 4,
 "nbformat_minor": 4
}
