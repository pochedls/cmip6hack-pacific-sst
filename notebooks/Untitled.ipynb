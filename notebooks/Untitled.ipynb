{
 "cells": [
  {
   "cell_type": "code",
   "execution_count": null,
   "metadata": {},
   "outputs": [],
   "source": [
    "def createDataDict(this_experiment_id, this_variable_id, this_table_id, this_grid_label):\n",
    "    if util.is_ncar_host():\n",
    "        col = intake.open_esm_datastore(\"../catalogs/glade-cmip6.json\")\n",
    "    else:\n",
    "        col = intake.open_esm_datastore(\"../catalogs/pangeo-cmip6.json\")\n",
    "    \n",
    "    cat = col.search(experiment_id=this_experiment_id, \\\n",
    "                     table_id=this_table_id, \\\n",
    "                     variable_id=this_variable_id, \\\n",
    "                     grid_label=this_grid_label)\n",
    "    dataset_info = cat.df\n",
    "    \n",
    "    dset_dict = cat.to_dataset_dict(zarr_kwargs={'consolidated': True, 'decode_times': False}, \n",
    "                                cdf_kwargs={'chunks': {}, 'decode_times': False})\n",
    "    #dset_dict.keys()\n",
    "    \n",
    "    source_ids = cat.df['source_id']\n",
    "    modelnames = list(set(source_ids))\n",
    "    \n",
    "    return dataset_info, dset_dict, modelnames"
   ]
  },
  {
   "cell_type": "code",
   "execution_count": null,
   "metadata": {},
   "outputs": [],
   "source": [
    "this_experiment_id='historical'\n",
    "this_activity_id='CMIP'\n",
    "this_table_id='Amon'\n",
    "this_variable_id='ts'\n",
    "this_grid_label='gn'\n",
    "\n",
    "[dataset_info, dset_dict, modelnames]=createDataDict(this_experiment_id, this_variable_id, this_table_id, this_grid_label)"
   ]
  },
  {
   "cell_type": "code",
   "execution_count": null,
   "metadata": {},
   "outputs": [],
   "source": [
    "def reindex_time(startingtimes):\n",
    "    newtimes = startingtimes.values\n",
    "    for i in range(0,len(startingtimes)):\n",
    "        yr = int(str(startingtimes.values[i])[0:4])\n",
    "        mon = int(str(startingtimes.values[i])[5:7])\n",
    "        day = int(str(startingtimes.values[i])[8:10])\n",
    "        hr = int(str(startingtimes.values[i])[11:13])\n",
    "        newdate = cftime.DatetimeProlepticGregorian(yr,mon,15)\n",
    "        newtimes[i]=newdate\n",
    "    return newtimes\n",
    "\n",
    "def initializeDataSet(activity_id,experiment_id,modelname):\n",
    "    dataset_info_subset = dataset_info[dataset_info['source_id']==modelname]\n",
    "    institution_id = list(set(dataset_info_subset['institution_id']))[0]\n",
    "    nametag=activity_id+'.'+institution_id+'.'+modelname+'.'+experiment_id+'.'+this_table_id+'.'+this_grid_label\n",
    "    thisdata=dset_dict[nametag]\n",
    "    thisdata=xr.decode_cf(thisdata)\n",
    "    thisdata = thisdata.mean(dim=['member_id'])\n",
    "    ###### Reformat dates to be Proleptic Gregorian date type\n",
    "    newtimes = reindex_time(startingtimes = thisdata['time'])\n",
    "    thistime = xr.DataArray(newtimes, coords=[newtimes], dims=['time'])\n",
    "    thisdata['time'] = thistime\n",
    "    #########################################\n",
    "    thisval=thisdata.mean(dim=['lat','lon'])[this_variable_id]\n",
    "    ds = xr.Dataset({modelname: thisval},\\\n",
    "                    coords={'time': thistime})\n",
    "                            #'modelnames': modelnameInd, \\\n",
    "                            #'lat': thislat, \\\n",
    "                            #'lon': thislon, \\\n",
    "                \n",
    "    return ds\n",
    "\n",
    "def fillDataSet():\n",
    "    modelnames_toplot = []\n",
    "    for modelname in modelnames:\n",
    "        source_id = modelname\n",
    "        dataset_info_subset = dataset_info[dataset_info['source_id']==source_id]\n",
    "        institution_id = list(set(dataset_info_subset['institution_id']))[0]\n",
    "        nametag = activity_id+'.'+institution_id+'.'+source_id+'.'+experiment_id+'.'+this_table_id+'.'+this_grid_label\n",
    "        if nametag in dset_dict:\n",
    "            ###### Reformat dates to be Proleptic Gregorian date type\n",
    "            #print('**************'+modelname+'**************')\n",
    "            modelnames_toplot.append(modelname)\n",
    "            thisdata=dset_dict[nametag]\n",
    "            thisdata=xr.decode_cf(thisdata)\n",
    "            thisdata = thisdata.mean(dim=['member_id'])\n",
    "            newtimes = reindex_time(startingtimes = thisdata['time'])\n",
    "            thisdata['latitude','longitude','time'] = xr.DataArray(newtimes, coords=[newtimes], dims=['time'])\n",
    "                ######\n",
    "                #if nametag=='CMIP.UA.MCM-UA-1-0.historical.Amon.gn':\n",
    "                #    thisval=thisdata.mean(dim=['latitude','longitude'])[this_variable_id]\n",
    "                #else:\n",
    "                #    thisval=thisdata.mean(dim=['lat','lon'])[this_variable_id]\n",
    "                ds[modelname]=thisdata\n",
    "    return ds,modelnames_toplot"
   ]
  },
  {
   "cell_type": "code",
   "execution_count": null,
   "metadata": {},
   "outputs": [],
   "source": [
    "experiment_id='historical'\n",
    "activity_id='CMIP'\n",
    "\n",
    "# Create xarray dataset using one model         \n",
    "ds = initializeDataSet(activity_id,experiment_id,modelname='CAMS-CSM1-0')\n",
    "\n",
    "# read data from all other models into xarray dataset\n",
    "[ds,modelnames_toplot] = fillDataSet()"
   ]
  },
  {
   "cell_type": "code",
   "execution_count": null,
   "metadata": {},
   "outputs": [],
   "source": [
    "ds_annual=ds.groupby('time.year').mean('time')"
   ]
  }
 ],
 "metadata": {
  "kernelspec": {
   "display_name": "Python 3",
   "language": "python",
   "name": "python3"
  },
  "language_info": {
   "codemirror_mode": {
    "name": "ipython",
    "version": 3
   },
   "file_extension": ".py",
   "mimetype": "text/x-python",
   "name": "python",
   "nbconvert_exporter": "python",
   "pygments_lexer": "ipython3",
   "version": "3.7.3"
  }
 },
 "nbformat": 4,
 "nbformat_minor": 4
}
