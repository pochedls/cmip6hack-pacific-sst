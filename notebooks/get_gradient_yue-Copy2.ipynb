{
 "cells": [
  {
   "cell_type": "markdown",
   "metadata": {},
   "source": [
    "# Compute Zonal and Meridional SST gradients in CMIP6 historical runs for one ensemble one model"
   ]
  },
  {
   "cell_type": "code",
   "execution_count": 1,
   "metadata": {},
   "outputs": [
    {
     "name": "stderr",
     "output_type": "stream",
     "text": [
      "/ncar/usr/jupyterhub/envs/cmip6-201910a/lib/python3.7/site-packages/intake/source/discovery.py:136: FutureWarning: The drivers ['stac-catalog', 'stac-collection', 'stac-item'] do not specify entry_points and were only discovered via a package scan. This may break in a future release of intake. The packages should be updated.\n",
      "  FutureWarning)\n"
     ]
    }
   ],
   "source": [
    "%matplotlib inline\n",
    "\n",
    "import xarray as xr\n",
    "import intake\n",
    "import pandas as pd\n",
    "import numpy as np\n",
    "import matplotlib.pyplot as plt\n",
    "\n",
    "import util"
   ]
  },
  {
   "cell_type": "code",
   "execution_count": 2,
   "metadata": {},
   "outputs": [],
   "source": [
    "def get_zm_gradient_anom(sst,ave_yr):\n",
    "  # ave_yr: specify the number of yrs for running average \n",
    "  \n",
    "   # get regional mean here\n",
    "    WP_mean = util.simple_spatial_average(sst, lat_bounds=[-10, 10], lon_bounds=[120, 180])\n",
    "    EP_mean = util.simple_spatial_average(sst, lat_bounds=[-10, 10], lon_bounds=[220, 280])\n",
    "    trop_mean = 1/2*(WP_mean + EP_mean)\n",
    "    extro_mean = util.simple_spatial_average(sst, lat_bounds=[-60, -40], lon_bounds=[120, 280])\n",
    "   \n",
    "   # define gradient\n",
    "    Tg_z = WP_mean - EP_mean\n",
    "    Tg_m = trop_mean - extro_mean\n",
    "\n",
    "   # running average\n",
    "    Tg_z = Tg_z.rolling(time=12*ave_yr).mean()\n",
    "    Tg_m = Tg_z.rolling(time=12*ave_yr).mean()\n",
    "    \n",
    "    # get anomaly w.r.t\n",
    "    Tg_z_anom = Tg_z - Tg_z.mean()\n",
    "    Tg_m_anom = Tg_m - Tg_m.mean()\n",
    "\n",
    "    return Tg_z_anom, Tg_m_anom"
   ]
  },
  {
   "cell_type": "markdown",
   "metadata": {},
   "source": [
    "### Get info for all models available in NCAR glade, as a reference"
   ]
  },
  {
   "cell_type": "code",
   "execution_count": 3,
   "metadata": {},
   "outputs": [
    {
     "data": {
      "text/plain": [
       "glade-cmip6-ESM Collection with 1115856 entries:\n",
       "\t> 17 activity_id(s)\n",
       "\n",
       "\t> 24 institution_id(s)\n",
       "\n",
       "\t> 48 source_id(s)\n",
       "\n",
       "\t> 82 experiment_id(s)\n",
       "\n",
       "\t> 163 member_id(s)\n",
       "\n",
       "\t> 35 table_id(s)\n",
       "\n",
       "\t> 1029 variable_id(s)\n",
       "\n",
       "\t> 12 grid_label(s)\n",
       "\n",
       "\t> 59 dcpp_init_year(s)\n",
       "\n",
       "\t> 251 version(s)\n",
       "\n",
       "\t> 7799 time_range(s)\n",
       "\n",
       "\t> 1115856 path(s)"
      ]
     },
     "execution_count": 3,
     "metadata": {},
     "output_type": "execute_result"
    }
   ],
   "source": [
    "if util.is_ncar_host():\n",
    "    col = intake.open_esm_datastore(\"../catalogs/glade-cmip6.json\")\n",
    "else:\n",
    "    col = intake.open_esm_datastore(\"../catalogs/pangeo-cmip6.json\")\n",
    "col"
   ]
  },
  {
   "cell_type": "code",
   "execution_count": 4,
   "metadata": {},
   "outputs": [
    {
     "name": "stdout",
     "output_type": "stream",
     "text": [
      "{'experiment_id': {'count': 82,\n",
      "                   'values': ['ssp370', 'histSST-piNTCF', 'histSST',\n",
      "                              'histSST-1950HC', 'hist-1950HC', 'hist-piNTCF',\n",
      "                              'piClim-NTCF', 'ssp370SST-lowNTCF',\n",
      "                              'ssp370-lowNTCF', 'ssp370SST', '1pctCO2-bgc',\n",
      "                              'hist-bgc', 'esm-ssp585', '1pctCO2-cdr',\n",
      "                              'amip-future4K', 'amip-m4K', 'a4SST', 'aqua-p4K',\n",
      "                              'piSST', 'amip-4xCO2', 'a4SSTice', 'amip-p4K',\n",
      "                              'aqua-control', 'aqua-4xCO2', 'abrupt-4xCO2',\n",
      "                              'historical', 'piControl', 'amip', '1pctCO2',\n",
      "                              'esm-hist', 'esm-piControl', 'ssp245', 'ssp585',\n",
      "                              'ssp126', 'hist-GHG', 'hist-aer', 'hist-nat',\n",
      "                              'dcppA-hindcast', 'dcppC-hindcast-noPinatubo',\n",
      "                              'dcppC-hindcast-noElChichon', 'dcppA-assim',\n",
      "                              'dcppC-hindcast-noAgung', 'amip-hist', 'G6solar',\n",
      "                              'G1', 'hist-1950', 'highresSST-present',\n",
      "                              'control-1950', 'land-hist-princeton',\n",
      "                              'land-hist-cruNcep', 'land-hist',\n",
      "                              'deforest-globe', 'esm-ssp585-ssp126Lu',\n",
      "                              'land-cCO2', 'hist-noLu', 'land-crop-noFert',\n",
      "                              'ssp370-ssp126Lu', 'ssp126-ssp370Lu', 'land-noLu',\n",
      "                              'land-noFire', 'land-hist-altStartYear',\n",
      "                              'land-cClim', 'omip1', 'omip2', 'pdSST-piAntSIC',\n",
      "                              'pdSST-futAntSIC', 'pdSST-pdSIC',\n",
      "                              'pdSST-piArcSIC', 'pdSST-futArcSIC', 'lig127k',\n",
      "                              'midHolocene', 'lgm', 'piClim-lu', 'piClim-ghg',\n",
      "                              'piClim-control', 'piClim-anthro', 'piClim-4xCO2',\n",
      "                              'piClim-aer', 'ssp119', 'ssp434', 'ssp460',\n",
      "                              'ssp534-over']},\n",
      " 'source_id': {'count': 48,\n",
      "               'values': ['BCC-ESM1', 'CESM2-WACCM', 'CESM2', 'CNRM-ESM2-1',\n",
      "                          'BCC-CSM2-MR', 'UKESM1-0-LL', 'GFDL-ESM4',\n",
      "                          'GISS-E2-1-G', 'CanESM5', 'CNRM-CM6-1', 'FGOALS-f3-L',\n",
      "                          'FGOALS-g3', 'SAM0-UNICON', 'HadGEM3-GC31-LL',\n",
      "                          'HadGEM3-GC31-MM', 'AWI-CM-1-1-MR', 'GFDL-AM4',\n",
      "                          'GFDL-CM4', 'GISS-E2-1-H', 'E3SM-1-0', 'CAMS-CSM1-0',\n",
      "                          'MCM-UA-1-0', 'EC-Earth3-LR', 'EC-Earth3',\n",
      "                          'EC-Earth3-Veg', 'MRI-ESM2-0', 'NESM3', 'MIROC-ES2L',\n",
      "                          'MIROC6', 'IPSL-CM6A-LR', 'NorCPM1', 'NorESM2-LM',\n",
      "                          'FIO-ESM-2-0', 'MPI-ESM1-2-HR', 'CESM1-1-CAM5-CMIP5',\n",
      "                          'CNRM-CM6-1-HR', 'FGOALS-f3-H', 'HadGEM3-GC31-HM',\n",
      "                          'HadGEM3-GC31-LM', 'GFDL-CM4C192', 'ECMWF-IFS-LR',\n",
      "                          'ECMWF-IFS-HR', 'CMCC-CM2-VHR4', 'CMCC-CM2-HR4',\n",
      "                          'NICAM16-7S', 'NICAM16-8S', 'NICAM16-9S',\n",
      "                          'IPSL-CM6A-ATM-HR']},\n",
      " 'table_id': {'count': 35,\n",
      "              'values': ['day', 'Amon', 'AERmonZ', 'CFmon', 'EdayZ', 'Eday',\n",
      "                         'CFday', 'EmonZ', 'AERday', 'Emon', 'fx', 'Lmon',\n",
      "                         'AERmon', 'Ofx', 'Omon', 'SImon', 'Oyr', 'AERhr',\n",
      "                         'Eyr', 'LImon', 'SIday', '6hrPlev', 'CFsubhr',\n",
      "                         '6hrLev', 'Oday', 'ImonGre', 'ImonAnt', 'Efx',\n",
      "                         'IfxGre', '3hr', '6hrPlevPt', 'E1hr', 'E3hr', 'Oclim',\n",
      "                         'CF3hr']}}\n"
     ]
    }
   ],
   "source": [
    "# print out the names of all experiments/models/tables\n",
    "import pprint \n",
    "uni_dict = col.unique(['source_id', 'experiment_id', 'table_id'])\n",
    "pprint.pprint(uni_dict, compact=True)"
   ]
  },
  {
   "cell_type": "markdown",
   "metadata": {},
   "source": [
    "## Pick out models that have target variables \n",
    "- ts: surface temperature (Amon)\n",
    "- sftlf: land area fraction (fx)"
   ]
  },
  {
   "cell_type": "code",
   "execution_count": 5,
   "metadata": {},
   "outputs": [],
   "source": [
    "cat_fx = col.search(experiment_id='historical', variable_id=['sftlf'],  table_id = 'fx', grid_label='gn')\n",
    "model_lsmask = cat_fx.df.source_id.unique()\n",
    "\n",
    "cat_fx = col.search(experiment_id='historical', variable_id=['ts'],  table_id = 'Amon', grid_label='gn')\n",
    "model_ts = cat_fx.df.source_id.unique()\n",
    "\n",
    "models = list(set(model_lsmask).intersection(model_ts))   ## Find the models that have both ts and sftlf. "
   ]
  },
  {
   "cell_type": "markdown",
   "metadata": {},
   "source": [
    "## read historical ts from one model one ensemble "
   ]
  },
  {
   "cell_type": "code",
   "execution_count": 6,
   "metadata": {},
   "outputs": [
    {
     "name": "stdout",
     "output_type": "stream",
     "text": [
      "\n",
      "xarray will load netCDF datasets with dask using a single chunk for all arrays.\n",
      "For effective chunking, please provide chunks in cdf_kwargs.\n",
      "For example: cdf_kwargs={'chunks': {'time': 36}}\n",
      "\n",
      "--> The keys in the returned dictionary of datasets are constructed as follows:\n",
      "\t'activity_id.institution_id.source_id.experiment_id.table_id.grid_label'\n",
      "\n",
      "--> There will be 1 group(s)\n"
     ]
    }
   ],
   "source": [
    "## read land-sea mask\n",
    "cat = col.search(experiment_id='historical', variable_id=['sftlf'],  table_id=['fx'], source_id=models[1], grid_label='gn')\n",
    "dset_dict = cat.to_dataset_dict(zarr_kwargs={'consolidated': True, 'decode_times': True}, \n",
    "                                cdf_kwargs={'chunks': {}, 'decode_times': True})\n",
    "keys = list(dset_dict.keys())\n",
    "lsmask = dset_dict[keys[0]]"
   ]
  },
  {
   "cell_type": "code",
   "execution_count": 7,
   "metadata": {},
   "outputs": [
    {
     "name": "stdout",
     "output_type": "stream",
     "text": [
      "\n",
      "xarray will load netCDF datasets with dask using a single chunk for all arrays.\n",
      "For effective chunking, please provide chunks in cdf_kwargs.\n",
      "For example: cdf_kwargs={'chunks': {'time': 36}}\n",
      "\n",
      "--> The keys in the returned dictionary of datasets are constructed as follows:\n",
      "\t'activity_id.institution_id.source_id.experiment_id.table_id.grid_label'\n",
      "\n",
      "--> There will be 1 group(s)\n"
     ]
    }
   ],
   "source": [
    "## read surface temperature\n",
    "cat = col.search(experiment_id='historical', variable_id=['ts'],  table_id=['Amon'], source_id=models[1], grid_label='gn')\n",
    "dset_dict = cat.to_dataset_dict(zarr_kwargs={'consolidated': True, 'decode_times': True}, \n",
    "                                cdf_kwargs={'chunks': {}, 'decode_times': True})\n",
    "keys = list(dset_dict.keys())\n",
    "ts = dset_dict[keys[0]]"
   ]
  },
  {
   "cell_type": "code",
   "execution_count": 8,
   "metadata": {},
   "outputs": [],
   "source": [
    "# if da_sst (Dataset) has member_id > 1 (multi ensembles)\n",
    "#  --- get ensemble-mean here\n",
    "da_sst = ts.ts.mean(dim = 'member_id')"
   ]
  },
  {
   "cell_type": "code",
   "execution_count": 9,
   "metadata": {},
   "outputs": [
    {
     "data": {
      "text/plain": [
       "<matplotlib.collections.QuadMesh at 0x2afffc21f278>"
      ]
     },
     "execution_count": 9,
     "metadata": {},
     "output_type": "execute_result"
    },
    {
     "data": {
      "image/png": "[encoded data removed]",
      "text/plain": [
       "<Figure size 432x288 with 2 Axes>"
      ]
     },
     "metadata": {
      "needs_background": "light"
     },
     "output_type": "display_data"
    }
   ],
   "source": [
    "# take out ocean TS as SST, and convert to deg C\n",
    "sst = da_sst.where(lsmask.sftlf[0,:,:]== 0)-273.15\n",
    "# make sure the land-sea mask works\n",
    "sst.isel(time=0).plot()"
   ]
  },
  {
   "cell_type": "markdown",
   "metadata": {},
   "source": [
    "### Ready to move to regional averages"
   ]
  },
  {
   "cell_type": "code",
   "execution_count": 10,
   "metadata": {},
   "outputs": [
    {
     "data": {
      "text/plain": [
       "<matplotlib.collections.QuadMesh at 0x2afff44c7a90>"
      ]
     },
     "execution_count": 10,
     "metadata": {},
     "output_type": "execute_result"
    },
    {
     "data": {
      "image/png": "[encoded data removed]",
      "text/plain": [
       "<Figure size 432x288 with 2 Axes>"
      ]
     },
     "metadata": {
      "needs_background": "light"
     },
     "output_type": "display_data"
    }
   ],
   "source": [
    "# plot to see the box selected\n",
    "\n",
    "#sst.isel(time = 0).sel(lat=slice(-20, 20),lon=slice(100, 120)).plot()\n",
    "lat = sst.lat\n",
    "lon = sst.lon\n",
    "\n",
    "# fig, axes = plt.subplots(ncols=3,figsize= (14,5))\n",
    "# sst.isel(time = 0).where((lat>=-10) & (lat<=10) & (lon>=120) & (lon<=180)).plot(ax=axes[0])\n",
    "# sst.isel(time = 0).where((lat>=-10) & (lat<=10) & (lon>=220) & (lon<=280)).plot(ax=axes[1])\n",
    "# sst.isel(time = 0).where((lat>=-60) & (lat<=-40) & (lon>=120) & (lon<=280)).plot(ax=axes[2])\n",
    "\n",
    "# one axis with three plots\n",
    "# sst.isel(time = 0).where((lat>=-10) & (lat<=10) & (lon>=120) & (lon<=180)).plot()\n",
    "# sst.isel(time = 0).where((lat>=-10) & (lat<=10) & (lon>=220) & (lon<=280)).plot()\n",
    "# sst.isel(time = 0).where((lat>=-60) & (lat<=-40) & (lon>=120) & (lon<=280)).plot()\n",
    "\n",
    "wp = (lat>=-10) & (lat<=10) & (lon>=120) & (lon<=180)\n",
    "ep = (lat>=-10) & (lat<=10) & (lon>=220) & (lon<=280)\n",
    "so = (lat>=-60) & (lat<=-40) & (lon>=120) & (lon<=280)\n",
    "\n",
    "sst.isel(time = 0).where(wp | ep | so).plot()"
   ]
  },
  {
   "cell_type": "code",
   "execution_count": null,
   "metadata": {},
   "outputs": [],
   "source": [
    "# get regional mean here\n",
    "WP_mean = util.simple_spatial_average(sst, lat_bounds=[-10, 10], lon_bounds=[120, 180])\n",
    "EP_mean = util.simple_spatial_average(sst, lat_bounds=[-10, 10], lon_bounds=[220, 280])\n",
    "trop_mean = 1/2*(WP_mean + EP_mean)\n",
    "extro_mean = util.simple_spatial_average(sst, lat_bounds=[-60, -40], lon_bounds=[120, 280])\n",
    "\n",
    "# define gradient\n",
    "Tg_z = WP_mean - EP_mean\n",
    "Tg_m = trop_mean - extro_mean\n",
    "\n",
    "# running average\n",
    "Tg_z = Tg_z.rolling(time=12*5).mean()\n",
    "Tg_m = Tg_z.rolling(time=12*5).mean()\n",
    "\n",
    "# get anomaly w.r.t\n",
    "Tg_z_anom = Tg_z - Tg_z.mean()\n",
    "Tg_m_anom = Tg_m - Tg_m.mean()"
   ]
  },
  {
   "cell_type": "code",
   "execution_count": 24,
   "metadata": {},
   "outputs": [
    {
     "name": "stderr",
     "output_type": "stream",
     "text": [
      "/ncar/usr/jupyterhub/envs/cmip6-201910a/lib/python3.7/site-packages/xarray/core/nanops.py:140: RuntimeWarning: Mean of empty slice\n",
      "  return np.nanmean(a, axis=axis, dtype=dtype)\n"
     ]
    }
   ],
   "source": [
    "#Tg_z_anom,Tg_m_anom = get_zm_gradient_anom(sst,5)"
   ]
  },
  {
   "cell_type": "code",
   "execution_count": 12,
   "metadata": {},
   "outputs": [
    {
     "ename": "SyntaxError",
     "evalue": "positional argument follows keyword argument (<ipython-input-12-c2bdd92a3a96>, line 2)",
     "output_type": "error",
     "traceback": [
      "\u001b[0;36m  File \u001b[0;32m\"<ipython-input-12-c2bdd92a3a96>\"\u001b[0;36m, line \u001b[0;32m2\u001b[0m\n\u001b[0;31m    Tg_m_anom.plot(color='b', lab)\u001b[0m\n\u001b[0m                             ^\u001b[0m\n\u001b[0;31mSyntaxError\u001b[0m\u001b[0;31m:\u001b[0m positional argument follows keyword argument\n"
     ]
    }
   ],
   "source": [
    "Tg_z_anom.plot(color='r',label='zonal grad',legend=True)\n",
    "Tg_m_anom.plot(color='b', label='meridional grad',legend=True)\n",
    "\n",
    "#plt.legend()"
   ]
  },
  {
   "cell_type": "code",
   "execution_count": null,
   "metadata": {},
   "outputs": [],
   "source": []
  }
 ],
 "metadata": {
  "kernelspec": {
   "display_name": "CMIP6 2019.10a",
   "language": "python",
   "name": "cmip6-201910a"
  },
  "language_info": {
   "codemirror_mode": {
    "name": "ipython",
    "version": 3
   },
   "file_extension": ".py",
   "mimetype": "text/x-python",
   "name": "python",
   "nbconvert_exporter": "python",
   "pygments_lexer": "ipython3",
   "version": "3.7.3"
  }
 },
 "nbformat": 4,
 "nbformat_minor": 4
}
